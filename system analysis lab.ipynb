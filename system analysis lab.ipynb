{
 "cells": [
  {
   "cell_type": "markdown",
   "id": "f3bff8d4-5e39-469e-8d0d-c9c55a6e3786",
   "metadata": {},
   "source": [
    "# Introduction & problem description"
   ]
  },
  {
   "cell_type": "markdown",
   "id": "af940c84-1c52-43e0-b720-cf5f6a4d7346",
   "metadata": {},
   "source": [
    "## Introduction"
   ]
  },
  {
   "cell_type": "markdown",
   "id": "a27eb8d8-ca47-497f-8cb3-d5f4dc40b2e4",
   "metadata": {},
   "source": [
    "### Millions of people are using Twitter and expressing their emotions like happiness, sadness, angry, etc. The Sentiment analysis is also about detecting the emotions, opinion, assessment, attitudes, and took this into consideration as a way humans think. Sentiment analysis classifies the emotions into classes such as positive or negative. Nowadays, industries are interested to use textual data for semantic analysis to extract the view of people about their products and services. Sentiment analysis is very important for them to know the customer satisfaction level and they can improve their services accordingly. To work on the text data, they try to extract the data from social media platforms. There are a lot of social media sites like Google Plus, Facebook, and Twitter that allow expressing opinions, views, and emotions about certain topics and events. Microblogging site Twitter is expanding rapidly among all other online social media networking sites with about 200 million users. Twitter was founded in 2006 and currently, it is the most famous microblogging platform. In 2017 2 million users shared 8.3 million tweets in one hour. Twitter users use to post their thoughts, emotions, and messages on their profiles, called tweets. Words limit of a single tweet has 140 characters. Twitter sentiment analysis based on the NLP (natural language processing) field. For tweets text, we use NLP techniques like tokenizing the words, removing the stop words like I, me, my, our, your, is, was, etc. Natural language processing also plays a part to preprocess the data like cleaning the text and removing the special characters and punctuation marks. Sentimental analysis is very important because we can know the trends of people’s emotions on specific topics with their tweets.\n",
    "\n"
   ]
  },
  {
   "cell_type": "markdown",
   "id": "f8ab30b6-dd18-4ea6-bdbb-227dbf28073f",
   "metadata": {},
   "source": [
    "## Problem description"
   ]
  },
  {
   "cell_type": "markdown",
   "id": "70b9a1e7-4e55-4ea1-972e-cda1b8e6f10d",
   "metadata": {},
   "source": [
    "### To devise a sentimental analyzer for overcoming the challenges to identify the twitter tweets text sentiments (positive, negative) by using naive bayes , support vector classifier and logistic regression"
   ]
  },
  {
   "cell_type": "markdown",
   "id": "a96cfeda-65d2-4c42-b947-4840ffdc8cba",
   "metadata": {},
   "source": [
    "## Labraries importing"
   ]
  },
  {
   "cell_type": "code",
   "execution_count": 6,
   "id": "6ea21663-5af3-44d6-980b-6361ad82c202",
   "metadata": {},
   "outputs": [],
   "source": [
    "import numpy as np\n",
    "import pandas as pd\n",
    "import seaborn as sns\n",
    "import matplotlib.pyplot as plt\n",
    "plt.style.use(\"ggplot\")\n",
    "from sklearn.metrics import classification_report, confusion_matrix\n",
    "import nltk\n",
    "from nltk.corpus import stopwords\n",
    "from nltk.stem import PorterStemmer\n",
    "from sklearn.model_selection import train_test_split\n",
    "from mlxtend.plotting import plot_confusion_matrix\n",
    "from nltk.tokenize import RegexpTokenizer\n",
    "import re\n",
    "import string\n",
    "from sklearn.svm import LinearSVC\n",
    "from sklearn.naive_bayes import BernoulliNB\n",
    "from sklearn.linear_model import LogisticRegression\n",
    "from sklearn.feature_extraction.text import TfidfVectorizer\n",
    "\n",
    "import warnings\n",
    "\n",
    "warnings.filterwarnings(\"ignore\")"
   ]
  },
  {
   "cell_type": "markdown",
   "id": "70dd5c9c-50bc-4fd4-bbe8-c3fd2f732c6b",
   "metadata": {},
   "source": [
    "## Loading data"
   ]
  },
  {
   "cell_type": "code",
   "execution_count": 9,
   "id": "4bf4cf5c-0d29-4e55-9678-8bd6ca06897f",
   "metadata": {},
   "outputs": [],
   "source": [
    "# loading data set\n",
    "data = pd.read_csv(\"data set.csv\", encoding=\"ISO-8859-1\", engine=\"python\")\n",
    "data.columns = [\"Sentiment\", \"Time\", \"Date\", \"Query\", \"Username\", \"Tweet\"]"
   ]
  },
  {
   "cell_type": "markdown",
   "id": "0d1b9121",
   "metadata": {},
   "source": [
    "# Exploratory data analysis "
   ]
  },
  {
   "cell_type": "code",
   "execution_count": 11,
   "id": "bd45f9c1",
   "metadata": {},
   "outputs": [
    {
     "data": {
      "text/html": [
       "<div>\n",
       "<style scoped>\n",
       "    .dataframe tbody tr th:only-of-type {\n",
       "        vertical-align: middle;\n",
       "    }\n",
       "\n",
       "    .dataframe tbody tr th {\n",
       "        vertical-align: top;\n",
       "    }\n",
       "\n",
       "    .dataframe thead th {\n",
       "        text-align: right;\n",
       "    }\n",
       "</style>\n",
       "<table border=\"1\" class=\"dataframe\">\n",
       "  <thead>\n",
       "    <tr style=\"text-align: right;\">\n",
       "      <th></th>\n",
       "      <th>Sentiment</th>\n",
       "      <th>Time</th>\n",
       "      <th>Date</th>\n",
       "      <th>Query</th>\n",
       "      <th>Username</th>\n",
       "      <th>Tweet</th>\n",
       "    </tr>\n",
       "  </thead>\n",
       "  <tbody>\n",
       "    <tr>\n",
       "      <th>0</th>\n",
       "      <td>0</td>\n",
       "      <td>1467810672</td>\n",
       "      <td>Mon Apr 06 22:19:49 PDT 2009</td>\n",
       "      <td>NO_QUERY</td>\n",
       "      <td>scotthamilton</td>\n",
       "      <td>is upset that he can't update his Facebook by ...</td>\n",
       "    </tr>\n",
       "    <tr>\n",
       "      <th>1</th>\n",
       "      <td>0</td>\n",
       "      <td>1467810917</td>\n",
       "      <td>Mon Apr 06 22:19:53 PDT 2009</td>\n",
       "      <td>NO_QUERY</td>\n",
       "      <td>mattycus</td>\n",
       "      <td>@Kenichan I dived many times for the ball. Man...</td>\n",
       "    </tr>\n",
       "    <tr>\n",
       "      <th>2</th>\n",
       "      <td>0</td>\n",
       "      <td>1467811184</td>\n",
       "      <td>Mon Apr 06 22:19:57 PDT 2009</td>\n",
       "      <td>NO_QUERY</td>\n",
       "      <td>ElleCTF</td>\n",
       "      <td>my whole body feels itchy and like its on fire</td>\n",
       "    </tr>\n",
       "    <tr>\n",
       "      <th>3</th>\n",
       "      <td>0</td>\n",
       "      <td>1467811193</td>\n",
       "      <td>Mon Apr 06 22:19:57 PDT 2009</td>\n",
       "      <td>NO_QUERY</td>\n",
       "      <td>Karoli</td>\n",
       "      <td>@nationwideclass no, it's not behaving at all....</td>\n",
       "    </tr>\n",
       "    <tr>\n",
       "      <th>4</th>\n",
       "      <td>0</td>\n",
       "      <td>1467811372</td>\n",
       "      <td>Mon Apr 06 22:20:00 PDT 2009</td>\n",
       "      <td>NO_QUERY</td>\n",
       "      <td>joy_wolf</td>\n",
       "      <td>@Kwesidei not the whole crew</td>\n",
       "    </tr>\n",
       "  </tbody>\n",
       "</table>\n",
       "</div>"
      ],
      "text/plain": [
       "   Sentiment        Time                          Date     Query  \\\n",
       "0          0  1467810672  Mon Apr 06 22:19:49 PDT 2009  NO_QUERY   \n",
       "1          0  1467810917  Mon Apr 06 22:19:53 PDT 2009  NO_QUERY   \n",
       "2          0  1467811184  Mon Apr 06 22:19:57 PDT 2009  NO_QUERY   \n",
       "3          0  1467811193  Mon Apr 06 22:19:57 PDT 2009  NO_QUERY   \n",
       "4          0  1467811372  Mon Apr 06 22:20:00 PDT 2009  NO_QUERY   \n",
       "\n",
       "        Username                                              Tweet  \n",
       "0  scotthamilton  is upset that he can't update his Facebook by ...  \n",
       "1       mattycus  @Kenichan I dived many times for the ball. Man...  \n",
       "2        ElleCTF    my whole body feels itchy and like its on fire   \n",
       "3         Karoli  @nationwideclass no, it's not behaving at all....  \n",
       "4       joy_wolf                      @Kwesidei not the whole crew   "
      ]
     },
     "execution_count": 11,
     "metadata": {},
     "output_type": "execute_result"
    }
   ],
   "source": [
    "data.head()"
   ]
  },
  {
   "cell_type": "markdown",
   "id": "ce3a3aa0",
   "metadata": {},
   "source": []
  },
  {
   "cell_type": "code",
   "execution_count": 12,
   "id": "a108a014",
   "metadata": {},
   "outputs": [
    {
     "data": {
      "text/html": [
       "<div>\n",
       "<style scoped>\n",
       "    .dataframe tbody tr th:only-of-type {\n",
       "        vertical-align: middle;\n",
       "    }\n",
       "\n",
       "    .dataframe tbody tr th {\n",
       "        vertical-align: top;\n",
       "    }\n",
       "\n",
       "    .dataframe thead th {\n",
       "        text-align: right;\n",
       "    }\n",
       "</style>\n",
       "<table border=\"1\" class=\"dataframe\">\n",
       "  <thead>\n",
       "    <tr style=\"text-align: right;\">\n",
       "      <th></th>\n",
       "      <th>Sentiment</th>\n",
       "      <th>Time</th>\n",
       "      <th>Date</th>\n",
       "      <th>Query</th>\n",
       "      <th>Username</th>\n",
       "      <th>Tweet</th>\n",
       "    </tr>\n",
       "  </thead>\n",
       "  <tbody>\n",
       "    <tr>\n",
       "      <th>1599994</th>\n",
       "      <td>4</td>\n",
       "      <td>2193601966</td>\n",
       "      <td>Tue Jun 16 08:40:49 PDT 2009</td>\n",
       "      <td>NO_QUERY</td>\n",
       "      <td>AmandaMarie1028</td>\n",
       "      <td>Just woke up. Having no school is the best fee...</td>\n",
       "    </tr>\n",
       "    <tr>\n",
       "      <th>1599995</th>\n",
       "      <td>4</td>\n",
       "      <td>2193601969</td>\n",
       "      <td>Tue Jun 16 08:40:49 PDT 2009</td>\n",
       "      <td>NO_QUERY</td>\n",
       "      <td>TheWDBoards</td>\n",
       "      <td>TheWDB.com - Very cool to hear old Walt interv...</td>\n",
       "    </tr>\n",
       "    <tr>\n",
       "      <th>1599996</th>\n",
       "      <td>4</td>\n",
       "      <td>2193601991</td>\n",
       "      <td>Tue Jun 16 08:40:49 PDT 2009</td>\n",
       "      <td>NO_QUERY</td>\n",
       "      <td>bpbabe</td>\n",
       "      <td>Are you ready for your MoJo Makeover? Ask me f...</td>\n",
       "    </tr>\n",
       "    <tr>\n",
       "      <th>1599997</th>\n",
       "      <td>4</td>\n",
       "      <td>2193602064</td>\n",
       "      <td>Tue Jun 16 08:40:49 PDT 2009</td>\n",
       "      <td>NO_QUERY</td>\n",
       "      <td>tinydiamondz</td>\n",
       "      <td>Happy 38th Birthday to my boo of alll time!!! ...</td>\n",
       "    </tr>\n",
       "    <tr>\n",
       "      <th>1599998</th>\n",
       "      <td>4</td>\n",
       "      <td>2193602129</td>\n",
       "      <td>Tue Jun 16 08:40:50 PDT 2009</td>\n",
       "      <td>NO_QUERY</td>\n",
       "      <td>RyanTrevMorris</td>\n",
       "      <td>happy #charitytuesday @theNSPCC @SparksCharity...</td>\n",
       "    </tr>\n",
       "  </tbody>\n",
       "</table>\n",
       "</div>"
      ],
      "text/plain": [
       "         Sentiment        Time                          Date     Query  \\\n",
       "1599994          4  2193601966  Tue Jun 16 08:40:49 PDT 2009  NO_QUERY   \n",
       "1599995          4  2193601969  Tue Jun 16 08:40:49 PDT 2009  NO_QUERY   \n",
       "1599996          4  2193601991  Tue Jun 16 08:40:49 PDT 2009  NO_QUERY   \n",
       "1599997          4  2193602064  Tue Jun 16 08:40:49 PDT 2009  NO_QUERY   \n",
       "1599998          4  2193602129  Tue Jun 16 08:40:50 PDT 2009  NO_QUERY   \n",
       "\n",
       "                Username                                              Tweet  \n",
       "1599994  AmandaMarie1028  Just woke up. Having no school is the best fee...  \n",
       "1599995      TheWDBoards  TheWDB.com - Very cool to hear old Walt interv...  \n",
       "1599996           bpbabe  Are you ready for your MoJo Makeover? Ask me f...  \n",
       "1599997     tinydiamondz  Happy 38th Birthday to my boo of alll time!!! ...  \n",
       "1599998   RyanTrevMorris  happy #charitytuesday @theNSPCC @SparksCharity...  "
      ]
     },
     "execution_count": 12,
     "metadata": {},
     "output_type": "execute_result"
    }
   ],
   "source": [
    "data.tail()"
   ]
  },
  {
   "cell_type": "code",
   "execution_count": 13,
   "id": "b931bacd",
   "metadata": {},
   "outputs": [
    {
     "name": "stdout",
     "output_type": "stream",
     "text": [
      "lenght of data is : 1599999\n"
     ]
    }
   ],
   "source": [
    "# length of data\n",
    "print(\"lenght of data is :\", len(data))"
   ]
  },
  {
   "cell_type": "code",
   "execution_count": 14,
   "id": "a8023e57",
   "metadata": {},
   "outputs": [
    {
     "data": {
      "text/plain": [
       "(1599999, 6)"
      ]
     },
     "execution_count": 14,
     "metadata": {},
     "output_type": "execute_result"
    }
   ],
   "source": [
    "# Shape of data\n",
    "data.shape"
   ]
  },
  {
   "cell_type": "code",
   "execution_count": 15,
   "id": "25f8e9a7",
   "metadata": {},
   "outputs": [
    {
     "name": "stdout",
     "output_type": "stream",
     "text": [
      "<class 'pandas.core.frame.DataFrame'>\n",
      "RangeIndex: 1599999 entries, 0 to 1599998\n",
      "Data columns (total 6 columns):\n",
      " #   Column     Non-Null Count    Dtype \n",
      "---  ------     --------------    ----- \n",
      " 0   Sentiment  1599999 non-null  int64 \n",
      " 1   Time       1599999 non-null  int64 \n",
      " 2   Date       1599999 non-null  object\n",
      " 3   Query      1599999 non-null  object\n",
      " 4   Username   1599999 non-null  object\n",
      " 5   Tweet      1599999 non-null  object\n",
      "dtypes: int64(2), object(4)\n",
      "memory usage: 73.2+ MB\n"
     ]
    }
   ],
   "source": [
    "# Information about data\n",
    "data.info()"
   ]
  },
  {
   "cell_type": "code",
   "execution_count": 16,
   "id": "1ac95506",
   "metadata": {},
   "outputs": [
    {
     "data": {
      "text/plain": [
       "Sentiment     int64\n",
       "Time          int64\n",
       "Date         object\n",
       "Query        object\n",
       "Username     object\n",
       "Tweet        object\n",
       "dtype: object"
      ]
     },
     "execution_count": 16,
     "metadata": {},
     "output_type": "execute_result"
    }
   ],
   "source": [
    "# Data types of all features\n",
    "data.dtypes"
   ]
  },
  {
   "cell_type": "code",
   "execution_count": 17,
   "id": "82ca3dcd",
   "metadata": {},
   "outputs": [
    {
     "data": {
      "text/plain": [
       "Sentiment    0.0\n",
       "Time         0.0\n",
       "Date         0.0\n",
       "Query        0.0\n",
       "Username     0.0\n",
       "Tweet        0.0\n",
       "dtype: float64"
      ]
     },
     "execution_count": 17,
     "metadata": {},
     "output_type": "execute_result"
    }
   ],
   "source": [
    "# Checking Null values\n",
    "data.isnull().mean()"
   ]
  },
  {
   "cell_type": "code",
   "execution_count": 18,
   "id": "6c0843ab",
   "metadata": {
    "scrolled": true
   },
   "outputs": [
    {
     "data": {
      "text/html": [
       "<div>\n",
       "<style scoped>\n",
       "    .dataframe tbody tr th:only-of-type {\n",
       "        vertical-align: middle;\n",
       "    }\n",
       "\n",
       "    .dataframe tbody tr th {\n",
       "        vertical-align: top;\n",
       "    }\n",
       "\n",
       "    .dataframe thead th {\n",
       "        text-align: right;\n",
       "    }\n",
       "</style>\n",
       "<table border=\"1\" class=\"dataframe\">\n",
       "  <thead>\n",
       "    <tr style=\"text-align: right;\">\n",
       "      <th></th>\n",
       "      <th>Sentiment</th>\n",
       "      <th>Time</th>\n",
       "    </tr>\n",
       "  </thead>\n",
       "  <tbody>\n",
       "    <tr>\n",
       "      <th>count</th>\n",
       "      <td>1.599999e+06</td>\n",
       "      <td>1.599999e+06</td>\n",
       "    </tr>\n",
       "    <tr>\n",
       "      <th>mean</th>\n",
       "      <td>2.000001e+00</td>\n",
       "      <td>1.998818e+09</td>\n",
       "    </tr>\n",
       "    <tr>\n",
       "      <th>std</th>\n",
       "      <td>2.000001e+00</td>\n",
       "      <td>1.935757e+08</td>\n",
       "    </tr>\n",
       "    <tr>\n",
       "      <th>min</th>\n",
       "      <td>0.000000e+00</td>\n",
       "      <td>1.467811e+09</td>\n",
       "    </tr>\n",
       "    <tr>\n",
       "      <th>25%</th>\n",
       "      <td>0.000000e+00</td>\n",
       "      <td>1.956916e+09</td>\n",
       "    </tr>\n",
       "    <tr>\n",
       "      <th>50%</th>\n",
       "      <td>4.000000e+00</td>\n",
       "      <td>2.002102e+09</td>\n",
       "    </tr>\n",
       "    <tr>\n",
       "      <th>75%</th>\n",
       "      <td>4.000000e+00</td>\n",
       "      <td>2.177059e+09</td>\n",
       "    </tr>\n",
       "    <tr>\n",
       "      <th>max</th>\n",
       "      <td>4.000000e+00</td>\n",
       "      <td>2.329206e+09</td>\n",
       "    </tr>\n",
       "  </tbody>\n",
       "</table>\n",
       "</div>"
      ],
      "text/plain": [
       "          Sentiment          Time\n",
       "count  1.599999e+06  1.599999e+06\n",
       "mean   2.000001e+00  1.998818e+09\n",
       "std    2.000001e+00  1.935757e+08\n",
       "min    0.000000e+00  1.467811e+09\n",
       "25%    0.000000e+00  1.956916e+09\n",
       "50%    4.000000e+00  2.002102e+09\n",
       "75%    4.000000e+00  2.177059e+09\n",
       "max    4.000000e+00  2.329206e+09"
      ]
     },
     "execution_count": 18,
     "metadata": {},
     "output_type": "execute_result"
    }
   ],
   "source": [
    "# Describtion for data\n",
    "data.describe()"
   ]
  },
  {
   "cell_type": "markdown",
   "id": "1c2a51ba",
   "metadata": {},
   "source": []
  },
  {
   "cell_type": "markdown",
   "id": "15190e7c",
   "metadata": {},
   "source": [
    "# Data Preparation"
   ]
  },
  {
   "cell_type": "code",
   "execution_count": 30,
   "id": "9c610c76-9b87-4db9-8aa0-cc326b1c9a8a",
   "metadata": {},
   "outputs": [
    {
     "data": {
      "text/html": [
       "<div>\n",
       "<style scoped>\n",
       "    .dataframe tbody tr th:only-of-type {\n",
       "        vertical-align: middle;\n",
       "    }\n",
       "\n",
       "    .dataframe tbody tr th {\n",
       "        vertical-align: top;\n",
       "    }\n",
       "\n",
       "    .dataframe thead th {\n",
       "        text-align: right;\n",
       "    }\n",
       "</style>\n",
       "<table border=\"1\" class=\"dataframe\">\n",
       "  <thead>\n",
       "    <tr style=\"text-align: right;\">\n",
       "      <th></th>\n",
       "      <th>Tweet</th>\n",
       "      <th>Sentiment</th>\n",
       "    </tr>\n",
       "  </thead>\n",
       "  <tbody>\n",
       "    <tr>\n",
       "      <th>0</th>\n",
       "      <td>is upset that he can't update his Facebook by ...</td>\n",
       "      <td>0</td>\n",
       "    </tr>\n",
       "    <tr>\n",
       "      <th>1</th>\n",
       "      <td>@Kenichan I dived many times for the ball. Man...</td>\n",
       "      <td>0</td>\n",
       "    </tr>\n",
       "    <tr>\n",
       "      <th>2</th>\n",
       "      <td>my whole body feels itchy and like its on fire</td>\n",
       "      <td>0</td>\n",
       "    </tr>\n",
       "    <tr>\n",
       "      <th>3</th>\n",
       "      <td>@nationwideclass no, it's not behaving at all....</td>\n",
       "      <td>0</td>\n",
       "    </tr>\n",
       "    <tr>\n",
       "      <th>4</th>\n",
       "      <td>@Kwesidei not the whole crew</td>\n",
       "      <td>0</td>\n",
       "    </tr>\n",
       "    <tr>\n",
       "      <th>...</th>\n",
       "      <td>...</td>\n",
       "      <td>...</td>\n",
       "    </tr>\n",
       "    <tr>\n",
       "      <th>1599994</th>\n",
       "      <td>Just woke up. Having no school is the best fee...</td>\n",
       "      <td>4</td>\n",
       "    </tr>\n",
       "    <tr>\n",
       "      <th>1599995</th>\n",
       "      <td>TheWDB.com - Very cool to hear old Walt interv...</td>\n",
       "      <td>4</td>\n",
       "    </tr>\n",
       "    <tr>\n",
       "      <th>1599996</th>\n",
       "      <td>Are you ready for your MoJo Makeover? Ask me f...</td>\n",
       "      <td>4</td>\n",
       "    </tr>\n",
       "    <tr>\n",
       "      <th>1599997</th>\n",
       "      <td>Happy 38th Birthday to my boo of alll time!!! ...</td>\n",
       "      <td>4</td>\n",
       "    </tr>\n",
       "    <tr>\n",
       "      <th>1599998</th>\n",
       "      <td>happy #charitytuesday @theNSPCC @SparksCharity...</td>\n",
       "      <td>4</td>\n",
       "    </tr>\n",
       "  </tbody>\n",
       "</table>\n",
       "<p>1599999 rows × 2 columns</p>\n",
       "</div>"
      ],
      "text/plain": [
       "                                                     Tweet  Sentiment\n",
       "0        is upset that he can't update his Facebook by ...          0\n",
       "1        @Kenichan I dived many times for the ball. Man...          0\n",
       "2          my whole body feels itchy and like its on fire           0\n",
       "3        @nationwideclass no, it's not behaving at all....          0\n",
       "4                            @Kwesidei not the whole crew           0\n",
       "...                                                    ...        ...\n",
       "1599994  Just woke up. Having no school is the best fee...          4\n",
       "1599995  TheWDB.com - Very cool to hear old Walt interv...          4\n",
       "1599996  Are you ready for your MoJo Makeover? Ask me f...          4\n",
       "1599997  Happy 38th Birthday to my boo of alll time!!! ...          4\n",
       "1599998  happy #charitytuesday @theNSPCC @SparksCharity...          4\n",
       "\n",
       "[1599999 rows x 2 columns]"
      ]
     },
     "execution_count": 30,
     "metadata": {},
     "output_type": "execute_result"
    }
   ],
   "source": [
    "# Selecting the text and label coloumn\n",
    "data = data[[\"Tweet\", \"Sentiment\"]]\n",
    "data"
   ]
  },
  {
   "cell_type": "code",
   "execution_count": 32,
   "id": "3867a019-f0c1-4d1c-bfb2-5186df23ae5f",
   "metadata": {},
   "outputs": [
    {
     "data": {
      "text/html": [
       "<div>\n",
       "<style scoped>\n",
       "    .dataframe tbody tr th:only-of-type {\n",
       "        vertical-align: middle;\n",
       "    }\n",
       "\n",
       "    .dataframe tbody tr th {\n",
       "        vertical-align: top;\n",
       "    }\n",
       "\n",
       "    .dataframe thead th {\n",
       "        text-align: right;\n",
       "    }\n",
       "</style>\n",
       "<table border=\"1\" class=\"dataframe\">\n",
       "  <thead>\n",
       "    <tr style=\"text-align: right;\">\n",
       "      <th></th>\n",
       "      <th>Tweet</th>\n",
       "      <th>Sentiment</th>\n",
       "    </tr>\n",
       "  </thead>\n",
       "  <tbody>\n",
       "    <tr>\n",
       "      <th>0</th>\n",
       "      <td>is upset that he can't update his Facebook by ...</td>\n",
       "      <td>0</td>\n",
       "    </tr>\n",
       "    <tr>\n",
       "      <th>1</th>\n",
       "      <td>@Kenichan I dived many times for the ball. Man...</td>\n",
       "      <td>0</td>\n",
       "    </tr>\n",
       "    <tr>\n",
       "      <th>2</th>\n",
       "      <td>my whole body feels itchy and like its on fire</td>\n",
       "      <td>0</td>\n",
       "    </tr>\n",
       "    <tr>\n",
       "      <th>3</th>\n",
       "      <td>@nationwideclass no, it's not behaving at all....</td>\n",
       "      <td>0</td>\n",
       "    </tr>\n",
       "    <tr>\n",
       "      <th>4</th>\n",
       "      <td>@Kwesidei not the whole crew</td>\n",
       "      <td>0</td>\n",
       "    </tr>\n",
       "    <tr>\n",
       "      <th>...</th>\n",
       "      <td>...</td>\n",
       "      <td>...</td>\n",
       "    </tr>\n",
       "    <tr>\n",
       "      <th>1599994</th>\n",
       "      <td>Just woke up. Having no school is the best fee...</td>\n",
       "      <td>1</td>\n",
       "    </tr>\n",
       "    <tr>\n",
       "      <th>1599995</th>\n",
       "      <td>TheWDB.com - Very cool to hear old Walt interv...</td>\n",
       "      <td>1</td>\n",
       "    </tr>\n",
       "    <tr>\n",
       "      <th>1599996</th>\n",
       "      <td>Are you ready for your MoJo Makeover? Ask me f...</td>\n",
       "      <td>1</td>\n",
       "    </tr>\n",
       "    <tr>\n",
       "      <th>1599997</th>\n",
       "      <td>Happy 38th Birthday to my boo of alll time!!! ...</td>\n",
       "      <td>1</td>\n",
       "    </tr>\n",
       "    <tr>\n",
       "      <th>1599998</th>\n",
       "      <td>happy #charitytuesday @theNSPCC @SparksCharity...</td>\n",
       "      <td>1</td>\n",
       "    </tr>\n",
       "  </tbody>\n",
       "</table>\n",
       "<p>1599999 rows × 2 columns</p>\n",
       "</div>"
      ],
      "text/plain": [
       "                                                     Tweet  Sentiment\n",
       "0        is upset that he can't update his Facebook by ...          0\n",
       "1        @Kenichan I dived many times for the ball. Man...          0\n",
       "2          my whole body feels itchy and like its on fire           0\n",
       "3        @nationwideclass no, it's not behaving at all....          0\n",
       "4                            @Kwesidei not the whole crew           0\n",
       "...                                                    ...        ...\n",
       "1599994  Just woke up. Having no school is the best fee...          1\n",
       "1599995  TheWDB.com - Very cool to hear old Walt interv...          1\n",
       "1599996  Are you ready for your MoJo Makeover? Ask me f...          1\n",
       "1599997  Happy 38th Birthday to my boo of alll time!!! ...          1\n",
       "1599998  happy #charitytuesday @theNSPCC @SparksCharity...          1\n",
       "\n",
       "[1599999 rows x 2 columns]"
      ]
     },
     "execution_count": 32,
     "metadata": {},
     "output_type": "execute_result"
    }
   ],
   "source": [
    "# Assigning 1 to Positive sentment 4\n",
    "data[\"Sentiment\"][data[\"Sentiment\"] == 4] = 1\n",
    "data"
   ]
  },
  {
   "cell_type": "code",
   "execution_count": 34,
   "id": "3cdc43cf-30af-4954-8712-8d45344dd937",
   "metadata": {},
   "outputs": [
    {
     "data": {
      "text/plain": [
       "Text(0.5, 1.0, 'Sentiment Data Distribution')"
      ]
     },
     "execution_count": 34,
     "metadata": {},
     "output_type": "execute_result"
    },
    {
     "data": {
      "image/png": "[encoded data removed]",
      "text/plain": [
       "<Figure size 800x400 with 1 Axes>"
      ]
     },
     "metadata": {},
     "output_type": "display_data"
    }
   ],
   "source": [
    "val_count = data.Sentiment.value_counts()\n",
    "\n",
    "plt.figure(figsize=(8, 4))\n",
    "plt.bar((\"Positive\", \"Negative\"), val_count.values)\n",
    "plt.title(\"Sentiment Data Distribution\")"
   ]
  },
  {
   "cell_type": "code",
   "execution_count": 36,
   "id": "8ea8579e-e5bc-4cb5-8b33-e09580b3cfad",
   "metadata": {},
   "outputs": [
    {
     "data": {
      "text/plain": [
       "1599994    just woke up. having no school is the best fee...\n",
       "1599995    thewdb.com - very cool to hear old walt interv...\n",
       "1599996    are you ready for your mojo makeover? ask me f...\n",
       "1599997    happy 38th birthday to my boo of alll time!!! ...\n",
       "1599998    happy #charitytuesday @thenspcc @sparkscharity...\n",
       "Name: Tweet, dtype: object"
      ]
     },
     "execution_count": 36,
     "metadata": {},
     "output_type": "execute_result"
    }
   ],
   "source": [
    "# Making statement text in lower case\n",
    "data[\"Tweet\"] = data[\"Tweet\"].str.lower()\n",
    "data[\"Tweet\"].tail()"
   ]
  },
  {
   "cell_type": "code",
   "execution_count": 38,
   "id": "7d42c6f0-1c01-4b86-a3ca-b6a0a63bdfa4",
   "metadata": {},
   "outputs": [],
   "source": [
    "# Cleaning and removing Stop words\n",
    "stopwords_list = stopwords.words(\"english\")"
   ]
  },
  {
   "cell_type": "code",
   "execution_count": 40,
   "id": "6b99a964-9e0b-44c6-b61a-4cfc22dba727",
   "metadata": {},
   "outputs": [
    {
     "data": {
      "text/plain": [
       "\"i, me, my, myself, we, our, ours, ourselves, you, you're, you've, you'll, you'd, your, yours, yourself, yourselves, he, him, his, himself, she, she's, her, hers, herself, it, it's, its, itself, they, them, their, theirs, themselves, what, which, who, whom, this, that, that'll, these, those, am, is, are, was, were, be, been, being, have, has, had, having, do, does, did, doing, a, an, the, and, but, if, or, because, as, until, while, of, at, by, for, with, about, against, between, into, through, during, before, after, above, below, to, from, up, down, in, out, on, off, over, under, again, further, then, once, here, there, when, where, why, how, all, any, both, each, few, more, most, other, some, such, no, nor, not, only, own, same, so, than, too, very, s, t, can, will, just, don, don't, should, should've, now, d, ll, m, o, re, ve, y, ain, aren, aren't, couldn, couldn't, didn, didn't, doesn, doesn't, hadn, hadn't, hasn, hasn't, haven, haven't, isn, isn't, ma, mightn, mightn't, mustn, mustn't, needn, needn't, shan, shan't, shouldn, shouldn't, wasn, wasn't, weren, weren't, won, won't, wouldn, wouldn't\""
      ]
     },
     "execution_count": 40,
     "metadata": {},
     "output_type": "execute_result"
    }
   ],
   "source": [
    "\", \".join(stopwords.words(\"english\"))"
   ]
  },
  {
   "cell_type": "code",
   "execution_count": 42,
   "id": "a4c5baf6-9a7d-4d1f-81b2-c39cd3a9a5c6",
   "metadata": {},
   "outputs": [
    {
     "data": {
      "text/plain": [
       "0    upset can't update facebook texting it... migh...\n",
       "1    @kenichan dived many times ball. managed save ...\n",
       "2                     whole body feels itchy like fire\n",
       "3    @nationwideclass no, behaving all. i'm mad. he...\n",
       "4                                 @kwesidei whole crew\n",
       "Name: Tweet, dtype: object"
      ]
     },
     "execution_count": 42,
     "metadata": {},
     "output_type": "execute_result"
    }
   ],
   "source": [
    "# Cleaning and removing the above stop words list from the tweet text\n",
    "STOPWORDS = set(stopwords.words(\"english\"))\n",
    "\n",
    "\n",
    "def cleaning_stopwords(text):\n",
    "    return \" \".join([word for word in str(text).split() if word not in STOPWORDS])\n",
    "\n",
    "\n",
    "data[\"Tweet\"] = data[\"Tweet\"].apply(lambda text: cleaning_stopwords(text))\n",
    "data[\"Tweet\"].head()"
   ]
  },
  {
   "cell_type": "code",
   "execution_count": 43,
   "id": "f06b9715-0ccc-482f-a877-5356404a023b",
   "metadata": {},
   "outputs": [],
   "source": [
    "# Cleaning and removing punctuations\n",
    "english_punctuations = string.punctuation\n",
    "punctuations_list = english_punctuations\n",
    "\n",
    "\n",
    "def cleaning_punctuations(text):\n",
    "    translator = str.maketrans(\"\", \"\", punctuations_list)\n",
    "    return text.translate(translator)"
   ]
  },
  {
   "cell_type": "code",
   "execution_count": 46,
   "id": "8ce41371-695e-440d-bda1-5df5ff673b94",
   "metadata": {},
   "outputs": [
    {
     "data": {
      "text/plain": [
       "1599994                     woke up school best feeling ever\n",
       "1599995    thewdbcom  cool hear old walt interviews â« h...\n",
       "1599996                      ready mojo makeover ask details\n",
       "1599997    happy 38th birthday boo alll time tupac amaru ...\n",
       "1599998    happy charitytuesday thenspcc sparkscharity sp...\n",
       "Name: Tweet, dtype: object"
      ]
     },
     "execution_count": 46,
     "metadata": {},
     "output_type": "execute_result"
    }
   ],
   "source": [
    "data[\"Tweet\"] = data[\"Tweet\"].apply(lambda x: cleaning_punctuations(x))\n",
    "data[\"Tweet\"].tail()"
   ]
  },
  {
   "cell_type": "code",
   "execution_count": 47,
   "id": "f8792f34-8021-47e7-9302-53cb8164e8ec",
   "metadata": {},
   "outputs": [
    {
     "data": {
      "text/plain": [
       "1599994                     woke up school best feeling ever\n",
       "1599995    thewdbcom  cool hear old walt interviews â« h...\n",
       "1599996                      ready mojo makeover ask details\n",
       "1599997    happy 38th birthday boo alll time tupac amaru ...\n",
       "1599998    happy charitytuesday thenspcc sparkscharity sp...\n",
       "Name: Tweet, dtype: object"
      ]
     },
     "execution_count": 47,
     "metadata": {},
     "output_type": "execute_result"
    }
   ],
   "source": [
    "# Replace all non alphabets\n",
    "def cleaning_non_alphabets(text):\n",
    "    return re.sub(r\"[\\W]^\\s\", \"\", text)\n",
    "\n",
    "\n",
    "data[\"Tweet\"] = data[\"Tweet\"].apply(lambda x: cleaning_non_alphabets(x))\n",
    "data[\"Tweet\"].tail()"
   ]
  },
  {
   "cell_type": "code",
   "execution_count": 48,
   "id": "3f6864f7-590b-44ed-a831-34807f2c1b57",
   "metadata": {},
   "outputs": [],
   "source": [
    "# Cleaning and removing repeating characters\n",
    "def cleaning_repeating_char(text):\n",
    "    return re.sub(r\"(.)\\1+\", r\"\\1\", text)"
   ]
  },
  {
   "cell_type": "code",
   "execution_count": 49,
   "id": "79cf746d-24e1-4e84-ad1e-eafb4e84eeee",
   "metadata": {},
   "outputs": [
    {
     "data": {
      "text/plain": [
       "1599994                       woke up schol best feling ever\n",
       "1599995    thewdbcom col hear old walt interviews â« htp...\n",
       "1599996                      ready mojo makeover ask details\n",
       "1599997     hapy 38th birthday bo al time tupac amaru shakur\n",
       "1599998    hapy charitytuesday thenspc sparkscharity spea...\n",
       "Name: Tweet, dtype: object"
      ]
     },
     "execution_count": 49,
     "metadata": {},
     "output_type": "execute_result"
    }
   ],
   "source": [
    "data[\"Tweet\"] = data[\"Tweet\"].apply(lambda x: cleaning_repeating_char(x))\n",
    "data[\"Tweet\"].tail()"
   ]
  },
  {
   "cell_type": "code",
   "execution_count": 50,
   "id": "a1ce30f2-0587-4cbe-b0e9-656ac19e824e",
   "metadata": {},
   "outputs": [
    {
     "data": {
      "text/plain": [
       "1599994                       woke up schol best feling ever\n",
       "1599995    thewdbcom col hear old walt interviews â« htp...\n",
       "1599996                      ready mojo makeover ask details\n",
       "1599997     hapy 38th birthday bo al time tupac amaru shakur\n",
       "1599998    hapy charitytuesday thenspc sparkscharity spea...\n",
       "Name: Tweet, dtype: object"
      ]
     },
     "execution_count": 50,
     "metadata": {},
     "output_type": "execute_result"
    }
   ],
   "source": [
    "# Cleaning and removing email\n",
    "def cleaning_email(data):\n",
    "    return re.sub(\"@[^\\s]+\", \" \", data)\n",
    "\n",
    "\n",
    "data[\"Tweet\"] = data[\"Tweet\"].apply(lambda x: cleaning_email(x))\n",
    "data[\"Tweet\"].tail()"
   ]
  },
  {
   "cell_type": "code",
   "execution_count": 52,
   "id": "38058762-72b4-4eb4-b086-873aadee5992",
   "metadata": {},
   "outputs": [
    {
     "data": {
      "text/plain": [
       "1599994                       woke up schol best feling ever\n",
       "1599995    thewdbcom col hear old walt interviews â« htp...\n",
       "1599996                      ready mojo makeover ask details\n",
       "1599997     hapy 38th birthday bo al time tupac amaru shakur\n",
       "1599998    hapy charitytuesday thenspc sparkscharity spea...\n",
       "Name: Tweet, dtype: object"
      ]
     },
     "execution_count": 52,
     "metadata": {},
     "output_type": "execute_result"
    }
   ],
   "source": [
    "# Cleaning and removing URL's\n",
    "def cleaning_URLs(data):\n",
    "    return re.sub(\"((www\\.[^\\s]+)|(https?://[^\\s]+))\", \" \", data)\n",
    "\n",
    "\n",
    "data[\"Tweet\"] = data[\"Tweet\"].apply(lambda x: cleaning_URLs(x))\n",
    "data[\"Tweet\"].tail()"
   ]
  },
  {
   "cell_type": "code",
   "execution_count": 55,
   "id": "0093488d-f3b9-4637-a24d-29df6eec69a1",
   "metadata": {},
   "outputs": [
    {
     "data": {
      "text/plain": [
       "1599994                       woke up schol best feling ever\n",
       "1599995    thewdbcom col hear old walt interviews â« htp...\n",
       "1599996                      ready mojo makeover ask details\n",
       "1599997       hapy th birthday bo al time tupac amaru shakur\n",
       "1599998    hapy charitytuesday thenspc sparkscharity spea...\n",
       "Name: Tweet, dtype: object"
      ]
     },
     "execution_count": 55,
     "metadata": {},
     "output_type": "execute_result"
    }
   ],
   "source": [
    "# Cleaning and removing Numeric numbers\n",
    "def cleaning_numbers(data):\n",
    "    return re.sub(\"[0-9]+\", \"\", data)\n",
    "\n",
    "\n",
    "data[\"Tweet\"] = data[\"Tweet\"].apply(lambda x: cleaning_numbers(x))\n",
    "data[\"Tweet\"].tail()"
   ]
  },
  {
   "cell_type": "code",
   "execution_count": null,
   "id": "8ae40a64-42a4-4484-9d2c-b73e8e94a3e5",
   "metadata": {},
   "outputs": [],
   "source": [
    "# TF-IDF Vectoriser"
   ]
  },
  {
   "cell_type": "code",
   "execution_count": null,
   "id": "80bf2fcf",
   "metadata": {},
   "outputs": [],
   "source": [
    "* TF-IDF indicates what the importance of the word is in order to understand the document or dataset.\n",
    "  \n",
    "* `TF-IDF Vectoriser` converts a collection of raw documents to a matrix of TF-IDF features. The Vectoriser is usually trained on only the X_train dataset\n",
    "* `ngram_range` is the range of number of words in a sequence. [e.g \"very expensive\" is a 2-gram that is considered as an extra feature separately from \"very\" and \"expensive\" when you have a n-gram range of (1,2)]\n",
    "* `max_features` specifies the number of features to consider. [Ordered by feature frequency across the corpus].\n",
    "\n",
    "![image.png](attachment:2af9b58b-3bbc-435f-b126-518240789b2b.png)\n",
    "\n"
   ]
  },
  {
   "cell_type": "code",
   "execution_count": null,
   "id": "1cf6c65d",
   "metadata": {},
   "outputs": [],
   "source": [
    "vectoriser = TfidfVectorizer(ngram_range=(1, 2), max_features=500000)\n",
    "vectoriser.fit(X_train)\n",
    "# print(f'Vectoriser fitted.')\n",
    "# print('No. of feature_words: ', len(vectoriser.get_feature_names_out()))"
   ]
  },
  {
   "cell_type": "code",
   "execution_count": null,
   "id": "ae328a52",
   "metadata": {},
   "outputs": [],
   "source": [
    "print(\"No. of feature_words: \", len(vectoriser.get_feature_names_out()))"
   ]
  },
  {
   "cell_type": "code",
   "execution_count": null,
   "id": "4b9d19ec",
   "metadata": {},
   "outputs": [],
   "source": [
    "X_train = vectoriser.transform(X_train)\n",
    "X_test = vectoriser.transform(X_test)\n",
    "print(f\"Data Transformed.\")"
   ]
  },
  {
   "cell_type": "code",
   "execution_count": null,
   "id": "5535bb53",
   "metadata": {},
   "outputs": [],
   "source": [
    "# Creating and Evaluating Models\n"
   ]
  },
  {
   "cell_type": "code",
   "execution_count": null,
   "id": "84a8f90f",
   "metadata": {},
   "outputs": [],
   "source": [
    "## Evaluate Model Function"
   ]
  },
  {
   "cell_type": "code",
   "execution_count": null,
   "id": "a1f5138e",
   "metadata": {},
   "outputs": [],
   "source": [
    "def model_Evaluate(model):\n",
    "\n",
    "    # Predict values for Test dataset\n",
    "    Y_pred = model.predict(X_test)\n",
    "\n",
    "    # Print the evaluation metrics for the dataset.\n",
    "    print(classification_report(Y_test, Y_pred))\n",
    "\n",
    "    # Compute and plot the Confusion matrix\n",
    "    cf_matrix = confusion_matrix(Y_test, Y_pred)\n",
    "\n",
    "    categories = [\"Negative\", \"Positive\"]\n",
    "    group_names = [\"True Neg\", \"False Pos\", \"False Neg\", \"True Pos\"]\n",
    "    group_percentages = [\n",
    "        \"{0:.2%}\".format(value) for value in cf_matrix.flatten() / np.sum(cf_matrix)\n",
    "    ]\n",
    "\n",
    "    labels = [f\"{v1}\\n{v2}\" for v1, v2 in zip(group_names, group_percentages)]\n",
    "    labels = np.asarray(labels).reshape(2, 2)\n",
    "\n",
    "    sns.heatmap(\n",
    "        cf_matrix,\n",
    "        annot=labels,\n",
    "        cmap=\"Blues\",\n",
    "        fmt=\"\",\n",
    "        xticklabels=categories,\n",
    "        yticklabels=categories,\n",
    "    )\n",
    "\n",
    "    plt.xlabel(\"Predicted values\", fontdict={\"size\": 14}, labelpad=10)\n",
    "    plt.ylabel(\"Actual values\", fontdict={\"size\": 14}, labelpad=10)\n",
    "    plt.title(\"Confusion Matrix\", fontdict={\"size\": 18}, pad=20)"
   ]
  },
  {
   "cell_type": "code",
   "execution_count": null,
   "id": "8fd02db7",
   "metadata": {},
   "outputs": [],
   "source": [
    "## BernoulliNB Model\n"
   ]
  },
  {
   "cell_type": "code",
   "execution_count": null,
   "id": "84ef6f8b",
   "metadata": {},
   "outputs": [],
   "source": [
    "BNBmodel = BernoulliNB(alpha=2)\n",
    "BNBmodel.fit(X_train, Y_train)\n",
    "model_Evaluate(BNBmodel)\n",
    "\n",
    "\n"
   ]
  },
  {
   "cell_type": "code",
   "execution_count": null,
   "id": "8fe2e20c",
   "metadata": {},
   "outputs": [],
   "source": [
    "## LinearSVC Model\n"
   ]
  },
  {
   "cell_type": "code",
   "execution_count": null,
   "id": "c0464bfe",
   "metadata": {},
   "outputs": [],
   "source": [
    "SVCmodel = LinearSVC()\n",
    "SVCmodel.fit(X_train, Y_train)\n",
    "model_Evaluate(SVCmodel)\n"
   ]
  },
  {
   "cell_type": "code",
   "execution_count": null,
   "id": "d2f108dd",
   "metadata": {},
   "outputs": [],
   "source": [
    "## Logistic Regression Model\n"
   ]
  },
  {
   "cell_type": "code",
   "execution_count": null,
   "id": "88fcfa6a",
   "metadata": {},
   "outputs": [],
   "source": [
    "LRmodel = LogisticRegression(C=2, max_iter=1000, n_jobs=-1)\n",
    "LRmodel.fit(X_train, Y_train)\n",
    "model_Evaluate(LRmodel)"
   ]
  }
 ],
 "metadata": {
  "kernelspec": {
   "display_name": "Python 3 (ipykernel)",
   "language": "python",
   "name": "python3"
  },
  "language_info": {
   "codemirror_mode": {
    "name": "ipython",
    "version": 3
   },
   "file_extension": ".py",
   "mimetype": "text/x-python",
   "name": "python",
   "nbconvert_exporter": "python",
   "pygments_lexer": "ipython3",
   "version": "3.12.7"
  }
 },
 "nbformat": 4,
 "nbformat_minor": 5
}
